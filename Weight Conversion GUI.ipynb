{
 "cells": [
  {
   "cell_type": "code",
   "execution_count": 5,
   "metadata": {},
   "outputs": [
    {
     "name": "stdout",
     "output_type": "stream",
     "text": [
      "Note: you may need to restart the kernel to use updated packages.\n"
     ]
    },
    {
     "name": "stderr",
     "output_type": "stream",
     "text": [
      "ERROR: Could not find a version that satisfies the requirement tkinter (from versions: none)\n",
      "ERROR: No matching distribution found for tkinter\n"
     ]
    }
   ],
   "source": [
    "pip install tkinter"
   ]
  },
  {
   "cell_type": "markdown",
   "metadata": {},
   "source": [
    "# Weight Conversion\n",
    "### 1milligram = 0.001 gram\n",
    "### 1 centigram = 0.01 gram\n",
    "### 1 decigram = 0.1 gram\n",
    "### 1 kilogram = 1000 gram\n",
    "### 1 gram = 1000 milligram\n",
    "### 1 ton = 2000 pounds\n",
    "### 1 pounds = 16 ounces"
   ]
  },
  {
   "cell_type": "code",
   "execution_count": 1,
   "metadata": {},
   "outputs": [],
   "source": [
    "from tkinter import *\n",
    "window = Tk()"
   ]
  },
  {
   "cell_type": "code",
   "execution_count": null,
   "metadata": {},
   "outputs": [],
   "source": [
    "def from_Kg():\n",
    "    gram = float(e2_values.get())*1000\n",
    "    pound = float(e2_values.get())*2.20462\n",
    "    ounce = float(e2_values.get())*35.27\n",
    "    t1.delete(\"1.0\",END)\n",
    "    t1.insert(END, gram)\n",
    "    t2.delete(\"1.0\",END)\n",
    "    t2.insert(END,pound)\n",
    "    t3.delete(\"1.0\",END)\n",
    "    t3.insert(END,ounce)\n",
    "    \n",
    "e1 = Label(window, text=\"Input the weight in KG\")\n",
    "e2_values = StringVar()\n",
    "e2 = Entry(window, textvariable=e2_values)\n",
    "e3 = Label(window, text=\"Gram\")\n",
    "e4 = Label(window, text=\"Pound\")\n",
    "e5 = Label(window, text=\"Ounce\")\n",
    "\n",
    "t1 = Text(window, height=5, width=30)\n",
    "t2 = Text(window, height=5, width=30)\n",
    "t3 = Text(window, height=5, width=30)\n",
    "\n",
    "b1= Button(window, text=\"Convert\")\n",
    "\n",
    "e1.grid(row=0, column=0)\n",
    "e2.grid(row=0, column=1)\n",
    "e3.grid(row=1, column=0)\n",
    "e4.grid(row=1, column=1)\n",
    "e5.grid(row=1, column=2)\n",
    "t1.grid(row=2, column=0)\n",
    "t2.grid(row=2, column=1)\n",
    "t3.grid(row=2, column=2)\n",
    "b1.grid(row=0, column=2)\n",
    "window.mainloop()"
   ]
  }
 ],
 "metadata": {
  "kernelspec": {
   "display_name": "Python 3",
   "language": "python",
   "name": "python3"
  },
  "language_info": {
   "codemirror_mode": {
    "name": "ipython",
    "version": 3
   },
   "file_extension": ".py",
   "mimetype": "text/x-python",
   "name": "python",
   "nbconvert_exporter": "python",
   "pygments_lexer": "ipython3",
   "version": "3.8.5"
  }
 },
 "nbformat": 4,
 "nbformat_minor": 4
}
